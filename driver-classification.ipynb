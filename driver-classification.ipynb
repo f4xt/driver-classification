{
 "cells": [
  {
   "cell_type": "code",
   "execution_count": 1,
   "metadata": {},
   "outputs": [
    {
     "name": "stdout",
     "output_type": "stream",
     "text": [
      "Loading finished. Elapsed time:  5.805583953857422\n"
     ]
    }
   ],
   "source": [
    "import sys\n",
    "import time\n",
    "import math\n",
    "import numpy as np\n",
    "import pandas as pd\n",
    "import matplotlib.pyplot as plt\n",
    "\n",
    "from sklearn.svm import SVC\n",
    "from sklearn.model_selection import KFold\n",
    "from sklearn.preprocessing import MinMaxScaler\n",
    "from sklearn.model_selection import cross_val_score\n",
    "from sklearn.neighbors import KNeighborsClassifier\n",
    "from sklearn.tree import DecisionTreeClassifier\n",
    "from sklearn.ensemble import RandomForestClassifier\n",
    "from sklearn.naive_bayes import GaussianNB\n",
    "\n",
    "pd.options.mode.chained_assignment = None\n",
    "\n",
    "# Read data\n",
    "t1 = time.time()\n",
    "points = pd.read_csv('inc_points_2.csv')\n",
    "tracks = pd.read_csv('rich_tracks_2.csv')\n",
    "os = pd.read_csv('os.csv')\n",
    "t2 = time.time()\n",
    "print('Loading finished. Elapsed time: ', t2 - t1)"
   ]
  },
  {
   "cell_type": "code",
   "execution_count": 2,
   "metadata": {},
   "outputs": [
    {
     "name": "stdout",
     "output_type": "stream",
     "text": [
      "Cleaing finished. Elapsed time:  0.6269469261169434\n"
     ]
    }
   ],
   "source": [
    "# Clean data, fix different dimensions of latitude and longitude\n",
    "t1 = time.time()\n",
    "points.drop(['PointDate'], axis=1, inplace=True)\n",
    "points = points.round({'Latitude': 6, 'Longitude': 6})\n",
    "needed_cols = ['IncomingTrackId', 'TrackOrigin']\n",
    "merged = pd.merge(points, tracks[needed_cols])\n",
    "t2 = time.time()\n",
    "print('Cleaing finished. Elapsed time: ', t2 - t1)"
   ]
  },
  {
   "cell_type": "code",
   "execution_count": 3,
   "metadata": {},
   "outputs": [
    {
     "name": "stderr",
     "output_type": "stream",
     "text": [
      "/home/f4xt/.local/lib/python3.6/site-packages/pandas/core/indexing.py:670: SettingWithCopyWarning: \n",
      "A value is trying to be set on a copy of a slice from a DataFrame\n",
      "\n",
      "See the caveats in the documentation: https://pandas.pydata.org/pandas-docs/stable/user_guide/indexing.html#returning-a-view-versus-a-copy\n",
      "  self._setitem_with_indexer(indexer, value)\n"
     ]
    },
    {
     "name": "stdout",
     "output_type": "stream",
     "text": [
      "train, test generating finished. Elapsed time:  50.764097690582275\n"
     ]
    }
   ],
   "source": [
    "# Feature engineering, generating train, test dataframes\n",
    "t1 = time.time()\n",
    "\n",
    "# Feature vector of each track would contain N points (latitude, logitude), \n",
    "# where N=num_points. This hyperparameter greatly affects accuracy.\n",
    "num_points = 12\n",
    "\n",
    "cols = ['MeanSpeed',\n",
    "        'MaxSpeed',\n",
    "        'MeanAcceleration',\n",
    "        'MaxAcceleration',\n",
    "        'MeanDeceleration',\n",
    "        'MaxDeceleration',\n",
    "        'MeanAccelerationX',\n",
    "        'MaxAccelerationX',\n",
    "        'MeanAccelerationY',\n",
    "        'MaxAccelerationY',\n",
    "        'MeanAccelerationZ',\n",
    "        'MaxAccelerationZ',\n",
    "        'MeanHeight',\n",
    "        'StartTimestamp',\n",
    "        'EndTimestamp',\n",
    "        'TrackOrigin']\n",
    "\n",
    "num_feat_cols = len(cols)\n",
    "\n",
    "for i in range(num_points):\n",
    "    cols.append('Point' + str(i) + 'Latitude')\n",
    "    cols.append('Point' + str(i) + 'Longitude')\n",
    "\n",
    "train = pd.DataFrame(columns=cols)\n",
    "\n",
    "# Create feature vector for every unique track \n",
    "for i, id in enumerate(merged.IncomingTrackId.unique()):\n",
    "    track = merged.loc[merged['IncomingTrackId']==id]\n",
    "\n",
    "    if num_points == 1:\n",
    "        train = train.append(track.iloc[0])\n",
    "    else:\n",
    "        step = math.ceil(len(track)/(num_points))\n",
    "        j = 0\n",
    "\n",
    "        if len(track) < num_points:\n",
    "            print('len(track) < num_points')\n",
    "\n",
    "        # Adding features\n",
    "        train = train.append({'MeanSpeed':track['Speed'].mean()}, ignore_index=True)\n",
    "        train['MaxSpeed'].iloc[i] = track['Speed'].max()\n",
    "        train['MeanAcceleration'].iloc[i] = track['Acceleration'].mean()\n",
    "        train['MaxAcceleration'].iloc[i] = track['Acceleration'].max()\n",
    "        train['MeanDeceleration'].iloc[i] = track['Deceleration'].mean()\n",
    "        train['MaxDeceleration'].iloc[i] = track['Deceleration'].max()\n",
    "        train['MeanAccelerationX'].iloc[i] = track['AccelerationXOriginal'].mean()\n",
    "        train['MaxAccelerationX'].iloc[i] = track['AccelerationXOriginal'].max()\n",
    "        train['MeanAccelerationY'].iloc[i] = track['AccelerationYOriginal'].mean()\n",
    "        train['MaxAccelerationY'].iloc[i] = track['AccelerationYOriginal'].max()\n",
    "        train['MeanAccelerationZ'].iloc[i] = track['AccelerationZOriginal'].mean()\n",
    "        train['MaxAccelerationZ'].iloc[i] = track['AccelerationZOriginal'].max()\n",
    "        train['MeanHeight'].iloc[i] = track['Height'].mean()\n",
    "        train['StartTimestamp'].iloc[i] = track['TickTimestamp'].min()\n",
    "        train['EndTimestamp'].iloc[i] = track['TickTimestamp'].max()\n",
    "        train['TrackOrigin'].iloc[i] = track['TrackOrigin'].iloc[0]\n",
    "\n",
    "        # Adding points\n",
    "        k = 0\n",
    "        while j < len(track):\n",
    "            train.iloc[i, k + num_feat_cols] = track.iloc[j, 2]\n",
    "            train.iloc[i, k + num_feat_cols + 1] = track.iloc[j, 3]\n",
    "            j += step\n",
    "            k += 2\n",
    "\n",
    "train = train.dropna()\n",
    "driver_mapping = {'OriginalDriver': 1, 'Passanger': 0, 'Taxi': 0}\n",
    "train['TrackOrigin'] = train['TrackOrigin'].map(driver_mapping)\n",
    "target = train['TrackOrigin']\n",
    "train.drop(['TrackOrigin'], axis=1, inplace=True)\n",
    "t2 = time.time()    \n",
    "print('train, test generating finished. Elapsed time: ', t2 - t1)"
   ]
  },
  {
   "cell_type": "code",
   "execution_count": 4,
   "metadata": {},
   "outputs": [
    {
     "name": "stdout",
     "output_type": "stream",
     "text": [
      "SVM accuracy:  77.23\n",
      "KNN accuracy:  98.91\n",
      "Decision Tree accuracy:  99.46\n",
      "Random Forest accuracy:  99.18\n",
      "Naive Bayes accuracy:  86.16\n"
     ]
    }
   ],
   "source": [
    "# Cross-Validation of SVM, kNN, Decision Tree, Random Forest and Naive Bayes models\n",
    "k_fold = KFold(n_splits=10, shuffle=True, random_state=0)\n",
    "\n",
    "model = SVC()\n",
    "accuracy = cross_val_score(model, train, target, cv=k_fold, n_jobs=1, scoring='accuracy')\n",
    "print('SVM accuracy: ', round(np.mean(accuracy)*100, 2))\n",
    "\n",
    "model = KNeighborsClassifier(n_neighbors = 9)\n",
    "accuracy = cross_val_score(model, train, target, cv=k_fold, n_jobs=1, scoring='accuracy')\n",
    "print('KNN accuracy: ', round(np.mean(accuracy)*100, 2))\n",
    "\n",
    "model = DecisionTreeClassifier()\n",
    "accuracy = cross_val_score(model, train, target, cv=k_fold, n_jobs=1, scoring='accuracy')\n",
    "print('Decision Tree accuracy: ', round(np.mean(accuracy)*100, 2))\n",
    "\n",
    "model = RandomForestClassifier(n_estimators=14)\n",
    "accuracy = cross_val_score(model, train, target, cv=k_fold, n_jobs=1, scoring='accuracy')\n",
    "print('Random Forest accuracy: ', round(np.mean(accuracy)*100, 2))\n",
    "\n",
    "model = GaussianNB()\n",
    "accuracy = cross_val_score(model, train, target, cv=k_fold, n_jobs=1, scoring='accuracy')\n",
    "print('Naive Bayes accuracy: ', round(np.mean(accuracy)*100, 2))"
   ]
  },
  {
   "cell_type": "code",
   "execution_count": null,
   "metadata": {},
   "outputs": [],
   "source": []
  },
  {
   "cell_type": "code",
   "execution_count": null,
   "metadata": {},
   "outputs": [],
   "source": []
  }
 ],
 "metadata": {
  "kernelspec": {
   "display_name": "Python 3",
   "language": "python",
   "name": "python3"
  },
  "language_info": {
   "codemirror_mode": {
    "name": "ipython",
    "version": 3
   },
   "file_extension": ".py",
   "mimetype": "text/x-python",
   "name": "python",
   "nbconvert_exporter": "python",
   "pygments_lexer": "ipython3",
   "version": "3.6.9"
  }
 },
 "nbformat": 4,
 "nbformat_minor": 4
}
